{
 "cells": [
  {
   "cell_type": "code",
   "execution_count": 1,
   "id": "572bbd30",
   "metadata": {},
   "outputs": [],
   "source": [
    "import numpy as np"
   ]
  },
  {
   "cell_type": "markdown",
   "id": "67f5c8db",
   "metadata": {},
   "source": [
    "### Indexação e slicing"
   ]
  },
  {
   "cell_type": "code",
   "execution_count": 7,
   "id": "b137ab15",
   "metadata": {},
   "outputs": [],
   "source": [
    "array1 = np.arange(1,5)"
   ]
  },
  {
   "cell_type": "code",
   "execution_count": 8,
   "id": "0c7d9e89",
   "metadata": {},
   "outputs": [
    {
     "data": {
      "text/plain": [
       "array([1, 2, 3, 4])"
      ]
     },
     "execution_count": 8,
     "metadata": {},
     "output_type": "execute_result"
    }
   ],
   "source": [
    "array1"
   ]
  },
  {
   "cell_type": "code",
   "execution_count": 9,
   "id": "ff3f9f7a",
   "metadata": {},
   "outputs": [
    {
     "data": {
      "text/plain": [
       "1"
      ]
     },
     "execution_count": 9,
     "metadata": {},
     "output_type": "execute_result"
    }
   ],
   "source": [
    "# indice começa em zero\n",
    "array1[0]"
   ]
  },
  {
   "cell_type": "code",
   "execution_count": 10,
   "id": "68dc948c",
   "metadata": {},
   "outputs": [
    {
     "data": {
      "text/plain": [
       "4"
      ]
     },
     "execution_count": 10,
     "metadata": {},
     "output_type": "execute_result"
    }
   ],
   "source": [
    "# ultimo elemento\n",
    "array1[-1]"
   ]
  },
  {
   "cell_type": "code",
   "execution_count": 12,
   "id": "bad21b04",
   "metadata": {},
   "outputs": [
    {
     "data": {
      "text/plain": [
       "array([4, 3, 2, 1])"
      ]
     },
     "execution_count": 12,
     "metadata": {},
     "output_type": "execute_result"
    }
   ],
   "source": [
    "# invertendo o array\n",
    "array1[::-1]"
   ]
  },
  {
   "cell_type": "markdown",
   "id": "2bc8bca3",
   "metadata": {},
   "source": [
    "### Trabalhando com array multidimensional"
   ]
  },
  {
   "cell_type": "code",
   "execution_count": null,
   "id": "93d66e1c",
   "metadata": {},
   "outputs": [],
   "source": []
  }
 ],
 "metadata": {
  "kernelspec": {
   "display_name": "Python 3 (ipykernel)",
   "language": "python",
   "name": "python3"
  },
  "language_info": {
   "codemirror_mode": {
    "name": "ipython",
    "version": 3
   },
   "file_extension": ".py",
   "mimetype": "text/x-python",
   "name": "python",
   "nbconvert_exporter": "python",
   "pygments_lexer": "ipython3",
   "version": "3.9.12"
  }
 },
 "nbformat": 4,
 "nbformat_minor": 5
}
