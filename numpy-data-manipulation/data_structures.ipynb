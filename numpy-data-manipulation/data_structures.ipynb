{
 "cells": [
  {
   "cell_type": "markdown",
   "id": "0976dd55",
   "metadata": {},
   "source": [
    "NumPy"
   ]
  },
  {
   "cell_type": "code",
   "execution_count": 1,
   "id": "07a8f8bf",
   "metadata": {},
   "outputs": [
    {
     "name": "stdout",
     "output_type": "stream",
     "text": [
      "Versão da linguagem python usada 3.9.12\n"
     ]
    }
   ],
   "source": [
    "from platform import python_version\n",
    "print('Versão da linguagem python usada', python_version())"
   ]
  },
  {
   "cell_type": "code",
   "execution_count": 18,
   "id": "768f9a50",
   "metadata": {},
   "outputs": [
    {
     "name": "stdout",
     "output_type": "stream",
     "text": [
      "\u001b[31mERROR: Could not install packages due to an OSError: Proxy URL had no scheme, should start with http:// or https://\r\n",
      "\u001b[0m\r\n"
     ]
    }
   ],
   "source": [
    "#Instalação do pacote watermark\n",
    "#É usado para marcar as versões de outros pacotes usado neste jupter notebook\n",
    "!pip install -q -U watermark"
   ]
  },
  {
   "cell_type": "code",
   "execution_count": null,
   "id": "9b82dfe4",
   "metadata": {},
   "outputs": [],
   "source": [
    "import numpy as np"
   ]
  },
  {
   "cell_type": "markdown",
   "id": "e3009609",
   "metadata": {},
   "source": [
    "### Criando estrutura de dados com numpy"
   ]
  },
  {
   "cell_type": "code",
   "execution_count": 14,
   "id": "00ee64ef",
   "metadata": {},
   "outputs": [],
   "source": [
    "# Criando array unidimensional\n",
    "array1 = np.array([10,20,30,40])"
   ]
  },
  {
   "cell_type": "code",
   "execution_count": 15,
   "id": "11d99cce",
   "metadata": {},
   "outputs": [
    {
     "name": "stdout",
     "output_type": "stream",
     "text": [
      "[10 20 30 40]\n"
     ]
    }
   ],
   "source": [
    "print(array1)"
   ]
  },
  {
   "cell_type": "code",
   "execution_count": 16,
   "id": "de308735",
   "metadata": {},
   "outputs": [
    {
     "data": {
      "text/plain": [
       "(4,)"
      ]
     },
     "execution_count": 16,
     "metadata": {},
     "output_type": "execute_result"
    }
   ],
   "source": [
    "# verificando o formato (shape) do array\n",
    "array1.shape"
   ]
  },
  {
   "cell_type": "code",
   "execution_count": 17,
   "id": "045f724f",
   "metadata": {},
   "outputs": [
    {
     "data": {
      "text/plain": [
       "1"
      ]
     },
     "execution_count": 17,
     "metadata": {},
     "output_type": "execute_result"
    }
   ],
   "source": [
    "# Verificando o número de dimensões \n",
    "array1.ndim"
   ]
  },
  {
   "cell_type": "code",
   "execution_count": 21,
   "id": "262a3526",
   "metadata": {},
   "outputs": [],
   "source": [
    "# Criando array bi-dimensional\n",
    "array2 = np.array([[10,20,30], [15, 25, 35]])"
   ]
  },
  {
   "cell_type": "code",
   "execution_count": 22,
   "id": "c8de54c4",
   "metadata": {},
   "outputs": [
    {
     "data": {
      "text/plain": [
       "(2, 3)"
      ]
     },
     "execution_count": 22,
     "metadata": {},
     "output_type": "execute_result"
    }
   ],
   "source": [
    "# verificando o formato (shape) do array\n",
    "array2.shape"
   ]
  },
  {
   "cell_type": "code",
   "execution_count": 25,
   "id": "a84992ae",
   "metadata": {},
   "outputs": [
    {
     "data": {
      "text/plain": [
       "2"
      ]
     },
     "execution_count": 25,
     "metadata": {},
     "output_type": "execute_result"
    }
   ],
   "source": [
    "# Verificando o número de dimensões \n",
    "array2.ndim"
   ]
  },
  {
   "cell_type": "code",
   "execution_count": 26,
   "id": "d1b7ee27",
   "metadata": {},
   "outputs": [
    {
     "data": {
      "text/plain": [
       "35"
      ]
     },
     "execution_count": 26,
     "metadata": {},
     "output_type": "execute_result"
    }
   ],
   "source": [
    "#metodo\n",
    "array2.max()"
   ]
  },
  {
   "cell_type": "code",
   "execution_count": 27,
   "id": "0fdadbec",
   "metadata": {},
   "outputs": [
    {
     "data": {
      "text/plain": [
       "2"
      ]
     },
     "execution_count": 27,
     "metadata": {},
     "output_type": "execute_result"
    }
   ],
   "source": [
    "#atributo\n",
    "array2.ndim"
   ]
  },
  {
   "cell_type": "markdown",
   "id": "dc367403",
   "metadata": {},
   "source": [
    "#### Criando estrutura de dados com função Arange"
   ]
  },
  {
   "cell_type": "code",
   "execution_count": 29,
   "id": "685a0911",
   "metadata": {},
   "outputs": [],
   "source": [
    "array3 = np.arange(14)"
   ]
  },
  {
   "cell_type": "code",
   "execution_count": 30,
   "id": "37f97376",
   "metadata": {},
   "outputs": [
    {
     "data": {
      "text/plain": [
       "array([ 0,  1,  2,  3,  4,  5,  6,  7,  8,  9, 10, 11, 12, 13])"
      ]
     },
     "execution_count": 30,
     "metadata": {},
     "output_type": "execute_result"
    }
   ],
   "source": [
    "array3"
   ]
  },
  {
   "cell_type": "code",
   "execution_count": null,
   "id": "ca56e964",
   "metadata": {},
   "outputs": [],
   "source": [
    "# usando start/end (exclusive)\n",
    "array4 = np.arange(0,15, 3)"
   ]
  },
  {
   "cell_type": "code",
   "execution_count": null,
   "id": "cc42334d",
   "metadata": {},
   "outputs": [],
   "source": []
  },
  {
   "cell_type": "code",
   "execution_count": null,
   "id": "8de52a22",
   "metadata": {},
   "outputs": [],
   "source": []
  }
 ],
 "metadata": {
  "kernelspec": {
   "display_name": "Python 3 (ipykernel)",
   "language": "python",
   "name": "python3"
  },
  "language_info": {
   "codemirror_mode": {
    "name": "ipython",
    "version": 3
   },
   "file_extension": ".py",
   "mimetype": "text/x-python",
   "name": "python",
   "nbconvert_exporter": "python",
   "pygments_lexer": "ipython3",
   "version": "3.9.12"
  }
 },
 "nbformat": 4,
 "nbformat_minor": 5
}
