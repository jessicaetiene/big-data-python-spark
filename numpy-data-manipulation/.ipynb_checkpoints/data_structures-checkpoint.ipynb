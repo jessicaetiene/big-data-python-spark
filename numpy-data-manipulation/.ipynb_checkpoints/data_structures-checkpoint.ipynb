{
 "cells": [
  {
   "cell_type": "markdown",
   "id": "0976dd55",
   "metadata": {},
   "source": [
    "NumPy"
   ]
  },
  {
   "cell_type": "code",
   "execution_count": 1,
   "id": "07a8f8bf",
   "metadata": {},
   "outputs": [
    {
     "name": "stdout",
     "output_type": "stream",
     "text": [
      "Versão da linguagem python usada 3.9.12\n"
     ]
    }
   ],
   "source": [
    "from platform import python_version\n",
    "print('Versão da linguagem python usada', python_version())"
   ]
  },
  {
   "cell_type": "code",
   "execution_count": 18,
   "id": "768f9a50",
   "metadata": {},
   "outputs": [
    {
     "name": "stdout",
     "output_type": "stream",
     "text": [
      "\u001b[31mERROR: Could not install packages due to an OSError: Proxy URL had no scheme, should start with http:// or https://\r\n",
      "\u001b[0m\r\n"
     ]
    }
   ],
   "source": [
    "#Instalação do pacote watermark\n",
    "#É usado para marcar as versões de outros pacotes usado neste jupter notebook\n",
    "!pip install -q -U watermark"
   ]
  },
  {
   "cell_type": "code",
   "execution_count": null,
   "id": "18f3ef3a",
   "metadata": {},
   "outputs": [],
   "source": [
    "import numpy as np"
   ]
  },
  {
   "cell_type": "markdown",
   "id": "a69331ef",
   "metadata": {},
   "source": [
    "### Criando estrutura de dados com numpy"
   ]
  },
  {
   "cell_type": "code",
   "execution_count": 14,
   "id": "35a1d6f8",
   "metadata": {},
   "outputs": [],
   "source": [
    "# Criando array unidimensional\n",
    "array1 = np.array([10,20,30,40])"
   ]
  },
  {
   "cell_type": "code",
   "execution_count": 15,
   "id": "569b17dd",
   "metadata": {},
   "outputs": [
    {
     "name": "stdout",
     "output_type": "stream",
     "text": [
      "[10 20 30 40]\n"
     ]
    }
   ],
   "source": [
    "print(array1)"
   ]
  },
  {
   "cell_type": "code",
   "execution_count": 16,
   "id": "eddb06fa",
   "metadata": {},
   "outputs": [
    {
     "data": {
      "text/plain": [
       "(4,)"
      ]
     },
     "execution_count": 16,
     "metadata": {},
     "output_type": "execute_result"
    }
   ],
   "source": [
    "# verificando o formato (shape) do array\n",
    "array1.shape"
   ]
  },
  {
   "cell_type": "code",
   "execution_count": 17,
   "id": "8c3dccfd",
   "metadata": {},
   "outputs": [
    {
     "data": {
      "text/plain": [
       "1"
      ]
     },
     "execution_count": 17,
     "metadata": {},
     "output_type": "execute_result"
    }
   ],
   "source": [
    "# Verificando o número de dimensões \n",
    "array1.ndim"
   ]
  },
  {
   "cell_type": "code",
   "execution_count": 21,
   "id": "f45374e7",
   "metadata": {},
   "outputs": [],
   "source": [
    "# Criando array bi-dimensional\n",
    "array2 = np.array([[10,20,30], [15, 25, 35]])"
   ]
  },
  {
   "cell_type": "code",
   "execution_count": 22,
   "id": "fc36d53c",
   "metadata": {},
   "outputs": [
    {
     "data": {
      "text/plain": [
       "(2, 3)"
      ]
     },
     "execution_count": 22,
     "metadata": {},
     "output_type": "execute_result"
    }
   ],
   "source": [
    "# verificando o formato (shape) do array\n",
    "array2.shape"
   ]
  },
  {
   "cell_type": "code",
   "execution_count": 25,
   "id": "1937eca8",
   "metadata": {},
   "outputs": [
    {
     "data": {
      "text/plain": [
       "2"
      ]
     },
     "execution_count": 25,
     "metadata": {},
     "output_type": "execute_result"
    }
   ],
   "source": [
    "# Verificando o número de dimensões \n",
    "array2.ndim"
   ]
  },
  {
   "cell_type": "code",
   "execution_count": 26,
   "id": "eac1c3ff",
   "metadata": {},
   "outputs": [
    {
     "data": {
      "text/plain": [
       "35"
      ]
     },
     "execution_count": 26,
     "metadata": {},
     "output_type": "execute_result"
    }
   ],
   "source": [
    "#metodo\n",
    "array2.max()"
   ]
  },
  {
   "cell_type": "code",
   "execution_count": 27,
   "id": "4782a4cf",
   "metadata": {},
   "outputs": [
    {
     "data": {
      "text/plain": [
       "2"
      ]
     },
     "execution_count": 27,
     "metadata": {},
     "output_type": "execute_result"
    }
   ],
   "source": [
    "#atributo\n",
    "array2.ndim"
   ]
  },
  {
   "cell_type": "markdown",
   "id": "97047dc1",
   "metadata": {},
   "source": [
    "#### Criando estrutura de dados com função Arange"
   ]
  },
  {
   "cell_type": "code",
   "execution_count": 29,
   "id": "54fb37b8",
   "metadata": {},
   "outputs": [],
   "source": [
    "array3 = np.arange(14)"
   ]
  },
  {
   "cell_type": "code",
   "execution_count": 30,
   "id": "4363c7b4",
   "metadata": {},
   "outputs": [
    {
     "data": {
      "text/plain": [
       "array([ 0,  1,  2,  3,  4,  5,  6,  7,  8,  9, 10, 11, 12, 13])"
      ]
     },
     "execution_count": 30,
     "metadata": {},
     "output_type": "execute_result"
    }
   ],
   "source": [
    "array3"
   ]
  },
  {
   "cell_type": "code",
   "execution_count": 31,
   "id": "b263e0f9",
   "metadata": {},
   "outputs": [],
   "source": [
    "# usando start/end (exclusive)\n",
    "array4 = np.arange(0,15, 3)"
   ]
  },
  {
   "cell_type": "code",
   "execution_count": 32,
   "id": "335fd431",
   "metadata": {},
   "outputs": [
    {
     "data": {
      "text/plain": [
       "array([ 0,  3,  6,  9, 12])"
      ]
     },
     "execution_count": 32,
     "metadata": {},
     "output_type": "execute_result"
    }
   ],
   "source": [
    "array4"
   ]
  },
  {
   "cell_type": "markdown",
   "id": "d8f22084",
   "metadata": {},
   "source": [
    "#### Criando estrutura de dados com linspace"
   ]
  },
  {
   "cell_type": "code",
   "execution_count": 35,
   "id": "464ba5ad",
   "metadata": {},
   "outputs": [
    {
     "data": {
      "text/plain": [
       "array([0., 1., 2., 3.])"
      ]
     },
     "execution_count": 35,
     "metadata": {},
     "output_type": "execute_result"
    }
   ],
   "source": [
    "# Arguments (start, end, number of elements)\n",
    "array5 = np.linspace(0,3,4)\n",
    "array5"
   ]
  },
  {
   "cell_type": "markdown",
   "id": "e1fe1237",
   "metadata": {},
   "source": [
    "#### Criando estrutura de dados com outras funções"
   ]
  },
  {
   "cell_type": "code",
   "execution_count": 37,
   "id": "91a7b8d4",
   "metadata": {},
   "outputs": [
    {
     "data": {
      "text/plain": [
       "array([[0., 0., 0.],\n",
       "       [0., 0., 0.],\n",
       "       [0., 0., 0.]])"
      ]
     },
     "execution_count": 37,
     "metadata": {},
     "output_type": "execute_result"
    }
   ],
   "source": [
    "# numpy.zeros\n",
    "# Array 3x3 de zeros\n",
    "array6 = np.zeros([3,3])\n",
    "array6"
   ]
  },
  {
   "cell_type": "code",
   "execution_count": 38,
   "id": "8293dbd5",
   "metadata": {},
   "outputs": [
    {
     "data": {
      "text/plain": [
       "array([[1., 1., 1.],\n",
       "       [1., 1., 1.],\n",
       "       [1., 1., 1.]])"
      ]
     },
     "execution_count": 38,
     "metadata": {},
     "output_type": "execute_result"
    }
   ],
   "source": [
    "# numpy.ones\n",
    "# Array 3x3 de 1's\n",
    "array7 = np.ones([3,3])\n",
    "array7"
   ]
  },
  {
   "cell_type": "code",
   "execution_count": 40,
   "id": "a0d690cd",
   "metadata": {},
   "outputs": [
    {
     "data": {
      "text/plain": [
       "array([[1., 0., 0.],\n",
       "       [0., 1., 0.],\n",
       "       [0., 0., 1.]])"
      ]
     },
     "execution_count": 40,
     "metadata": {},
     "output_type": "execute_result"
    }
   ],
   "source": [
    "# numpy.eye\n",
    "# Produz uma matriz identididade\n",
    "array8 = np.eye(3)\n",
    "array8"
   ]
  },
  {
   "cell_type": "markdown",
   "id": "67aabb63",
   "metadata": {},
   "source": [
    "Quando falamos em matrizes identidades, nos referimos às matrizes quadradas, cujos elementos da diagonal principal é 1 e os demais elementos são todos zeros.\n",
    "\n"
   ]
  },
  {
   "cell_type": "code",
   "execution_count": 41,
   "id": "e6457779",
   "metadata": {},
   "outputs": [
    {
     "data": {
      "text/plain": [
       "array([[2, 0, 0, 0],\n",
       "       [0, 1, 0, 0],\n",
       "       [0, 0, 4, 0],\n",
       "       [0, 0, 0, 6]])"
      ]
     },
     "execution_count": 41,
     "metadata": {},
     "output_type": "execute_result"
    }
   ],
   "source": [
    "# numpy.diag\n",
    "# Matriz diagonal\n",
    "array9 = np.diag((2,1,4,6))\n",
    "array9"
   ]
  },
  {
   "cell_type": "markdown",
   "id": "ae8f3b5b",
   "metadata": {},
   "source": [
    "matriz quadrada em que todos os elementos que não estão na diagonal principal são nulos."
   ]
  },
  {
   "cell_type": "code",
   "execution_count": 43,
   "id": "fac935bc",
   "metadata": {},
   "outputs": [
    {
     "data": {
      "text/plain": [
       "array([0.54340494, 0.27836939, 0.42451759, 0.84477613, 0.00471886])"
      ]
     },
     "execution_count": 43,
     "metadata": {},
     "output_type": "execute_result"
    }
   ],
   "source": [
    "# numpy.random.rand\n",
    "# A função rand(n) produz uma sequencia de números uniformemente distribuidos com range de zero a n\n",
    "np.random.seed(100) #set seed - permite executar o processo aleatório seguindo o msm padrão\n",
    "array10 = np.random.rand(5)\n",
    "array10"
   ]
  },
  {
   "cell_type": "code",
   "execution_count": 45,
   "id": "fe21792d",
   "metadata": {},
   "outputs": [
    {
     "data": {
      "text/plain": [
       "array([ 0.17957831, -0.5771615 , -0.53337271, -0.22540212, -0.31491934])"
      ]
     },
     "execution_count": 45,
     "metadata": {},
     "output_type": "execute_result"
    }
   ],
   "source": [
    "# A função randn(n) produz uma sequencia de número com distribuição normal gaussian\n",
    "array11 = np.random.randn(5)\n",
    "array11"
   ]
  },
  {
   "cell_type": "code",
   "execution_count": 47,
   "id": "31aca244",
   "metadata": {},
   "outputs": [
    {
     "data": {
      "text/plain": [
       "array([[1.e-323, 5.e-324],\n",
       "       [2.e-323, 3.e-323]])"
      ]
     },
     "execution_count": 47,
     "metadata": {},
     "output_type": "execute_result"
    }
   ],
   "source": [
    "array12 = np.empty((2,2))\n",
    "array12"
   ]
  },
  {
   "cell_type": "code",
   "execution_count": 50,
   "id": "9f200aaf",
   "metadata": {},
   "outputs": [
    {
     "data": {
      "text/plain": [
       "array([[1, 2],\n",
       "       [3, 4]])"
      ]
     },
     "execution_count": 50,
     "metadata": {},
     "output_type": "execute_result"
    }
   ],
   "source": [
    "# numpy.tile\n",
    "array13 = np.array([[1,2],[3,4]])\n",
    "array13"
   ]
  },
  {
   "cell_type": "code",
   "execution_count": 51,
   "id": "c278a40c",
   "metadata": {},
   "outputs": [
    {
     "data": {
      "text/plain": [
       "array([[1, 2, 1, 2, 1, 2, 1, 2],\n",
       "       [3, 4, 3, 4, 3, 4, 3, 4]])"
      ]
     },
     "execution_count": 51,
     "metadata": {},
     "output_type": "execute_result"
    }
   ],
   "source": [
    "np.tile(np.array([[1,2],[3,4]]), 4)"
   ]
  },
  {
   "cell_type": "code",
   "execution_count": 52,
   "id": "3e698a12",
   "metadata": {},
   "outputs": [
    {
     "data": {
      "text/plain": [
       "array([[1, 2, 1, 2],\n",
       "       [3, 4, 3, 4],\n",
       "       [1, 2, 1, 2],\n",
       "       [3, 4, 3, 4]])"
      ]
     },
     "execution_count": 52,
     "metadata": {},
     "output_type": "execute_result"
    }
   ],
   "source": [
    "np.tile(np.array([[1,2],[3,4]]),(2,2))"
   ]
  }
 ],
 "metadata": {
  "kernelspec": {
   "display_name": "Python 3 (ipykernel)",
   "language": "python",
   "name": "python3"
  },
  "language_info": {
   "codemirror_mode": {
    "name": "ipython",
    "version": 3
   },
   "file_extension": ".py",
   "mimetype": "text/x-python",
   "name": "python",
   "nbconvert_exporter": "python",
   "pygments_lexer": "ipython3",
   "version": "3.9.12"
  }
 },
 "nbformat": 4,
 "nbformat_minor": 5
}
